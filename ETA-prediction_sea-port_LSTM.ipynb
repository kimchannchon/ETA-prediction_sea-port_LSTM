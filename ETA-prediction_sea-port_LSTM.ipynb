{
 "cells": [
  {
   "cell_type": "code",
   "execution_count": 1,
   "metadata": {},
   "outputs": [
    {
     "data": {
      "text/html": [
       "<div>\n",
       "<style scoped>\n",
       "    .dataframe tbody tr th:only-of-type {\n",
       "        vertical-align: middle;\n",
       "    }\n",
       "\n",
       "    .dataframe tbody tr th {\n",
       "        vertical-align: top;\n",
       "    }\n",
       "\n",
       "    .dataframe thead th {\n",
       "        text-align: right;\n",
       "    }\n",
       "</style>\n",
       "<table border=\"1\" class=\"dataframe\">\n",
       "  <thead>\n",
       "    <tr style=\"text-align: right;\">\n",
       "      <th></th>\n",
       "      <th>Unnamed: 0</th>\n",
       "      <th>Country</th>\n",
       "      <th>Port Name</th>\n",
       "      <th>UN Code</th>\n",
       "      <th>Vessels in Port</th>\n",
       "      <th>Departures(Last 24 Hours)</th>\n",
       "      <th>Arrivals(Last 24 Hours)</th>\n",
       "      <th>Expected Arrivals</th>\n",
       "      <th>Type</th>\n",
       "      <th>Area Local</th>\n",
       "      <th>Area Global</th>\n",
       "      <th>Also known as</th>\n",
       "    </tr>\n",
       "  </thead>\n",
       "  <tbody>\n",
       "    <tr>\n",
       "      <th>0</th>\n",
       "      <td>0</td>\n",
       "      <td>China</td>\n",
       "      <td>SHANGHAI</td>\n",
       "      <td>CNSHG</td>\n",
       "      <td>2420</td>\n",
       "      <td>1376</td>\n",
       "      <td>1626</td>\n",
       "      <td>644</td>\n",
       "      <td>Port</td>\n",
       "      <td>East China Sea</td>\n",
       "      <td>Central China</td>\n",
       "      <td>['SHANG HAI', ' YANGSHAN', ' CNSHA', ' CNSGH']</td>\n",
       "    </tr>\n",
       "    <tr>\n",
       "      <th>1</th>\n",
       "      <td>1</td>\n",
       "      <td>China</td>\n",
       "      <td>NANTONG</td>\n",
       "      <td>CNNTG</td>\n",
       "      <td>1572</td>\n",
       "      <td>1173</td>\n",
       "      <td>1287</td>\n",
       "      <td>234</td>\n",
       "      <td>Port</td>\n",
       "      <td>East China Sea</td>\n",
       "      <td>Central China</td>\n",
       "      <td>['NAN TONG']</td>\n",
       "    </tr>\n",
       "    <tr>\n",
       "      <th>2</th>\n",
       "      <td>2</td>\n",
       "      <td>China</td>\n",
       "      <td>CJK</td>\n",
       "      <td>CNCJK</td>\n",
       "      <td>1529</td>\n",
       "      <td>343</td>\n",
       "      <td>370</td>\n",
       "      <td>310</td>\n",
       "      <td>Anchorage</td>\n",
       "      <td>East China Sea</td>\n",
       "      <td>Central China</td>\n",
       "      <td>['CHANGJIANGKOU', ' CHANGJIANG KOU', ' CJK CN']</td>\n",
       "    </tr>\n",
       "    <tr>\n",
       "      <th>3</th>\n",
       "      <td>3</td>\n",
       "      <td>China</td>\n",
       "      <td>NANJING</td>\n",
       "      <td>CNNKG</td>\n",
       "      <td>1414</td>\n",
       "      <td>667</td>\n",
       "      <td>1060</td>\n",
       "      <td>203</td>\n",
       "      <td>Port</td>\n",
       "      <td>East China Sea</td>\n",
       "      <td>Central China</td>\n",
       "      <td>['NAN JING', ' NAN JIN', ' NANJIN']</td>\n",
       "    </tr>\n",
       "    <tr>\n",
       "      <th>4</th>\n",
       "      <td>4</td>\n",
       "      <td>China</td>\n",
       "      <td>JIANGYIN</td>\n",
       "      <td>CNJIA</td>\n",
       "      <td>1112</td>\n",
       "      <td>1076</td>\n",
       "      <td>1070</td>\n",
       "      <td>166</td>\n",
       "      <td>Port</td>\n",
       "      <td>East China Sea</td>\n",
       "      <td>Central China</td>\n",
       "      <td>['-', ' JANG JIN', ' JIANG YIN']</td>\n",
       "    </tr>\n",
       "  </tbody>\n",
       "</table>\n",
       "</div>"
      ],
      "text/plain": [
       "   Unnamed: 0 Country Port Name UN Code  Vessels in Port  \\\n",
       "0           0   China  SHANGHAI   CNSHG             2420   \n",
       "1           1   China   NANTONG   CNNTG             1572   \n",
       "2           2   China       CJK   CNCJK             1529   \n",
       "3           3   China   NANJING   CNNKG             1414   \n",
       "4           4   China  JIANGYIN   CNJIA             1112   \n",
       "\n",
       "   Departures(Last 24 Hours)  Arrivals(Last 24 Hours)  Expected Arrivals  \\\n",
       "0                       1376                     1626                644   \n",
       "1                       1173                     1287                234   \n",
       "2                        343                      370                310   \n",
       "3                        667                     1060                203   \n",
       "4                       1076                     1070                166   \n",
       "\n",
       "        Type      Area Local    Area Global  \\\n",
       "0       Port  East China Sea  Central China   \n",
       "1       Port  East China Sea  Central China   \n",
       "2  Anchorage  East China Sea  Central China   \n",
       "3       Port  East China Sea  Central China   \n",
       "4       Port  East China Sea  Central China   \n",
       "\n",
       "                                     Also known as  \n",
       "0   ['SHANG HAI', ' YANGSHAN', ' CNSHA', ' CNSGH']  \n",
       "1                                     ['NAN TONG']  \n",
       "2  ['CHANGJIANGKOU', ' CHANGJIANG KOU', ' CJK CN']  \n",
       "3              ['NAN JING', ' NAN JIN', ' NANJIN']  \n",
       "4                 ['-', ' JANG JIN', ' JIANG YIN']  "
      ]
     },
     "execution_count": 1,
     "metadata": {},
     "output_type": "execute_result"
    }
   ],
   "source": [
    "import pandas as pd\n",
    "\n",
    "# Load the dataset\n",
    "data_path = 'Port_Data.csv'\n",
    "data = pd.read_csv(data_path)\n",
    "\n",
    "# Display the first few rows of the dataset to understand its structure\n",
    "data.head()"
   ]
  },
  {
   "cell_type": "code",
   "execution_count": 2,
   "metadata": {},
   "outputs": [
    {
     "name": "stdout",
     "output_type": "stream",
     "text": [
      "<class 'pandas.core.frame.DataFrame'>\n",
      "RangeIndex: 480 entries, 0 to 479\n",
      "Data columns (total 12 columns):\n",
      " #   Column                     Non-Null Count  Dtype \n",
      "---  ------                     --------------  ----- \n",
      " 0   Unnamed: 0                 480 non-null    int64 \n",
      " 1   Country                    480 non-null    object\n",
      " 2   Port Name                  480 non-null    object\n",
      " 3   UN Code                    468 non-null    object\n",
      " 4   Vessels in Port            480 non-null    int64 \n",
      " 5   Departures(Last 24 Hours)  480 non-null    int64 \n",
      " 6   Arrivals(Last 24 Hours)    480 non-null    int64 \n",
      " 7   Expected Arrivals          480 non-null    int64 \n",
      " 8   Type                       480 non-null    object\n",
      " 9   Area Local                 480 non-null    object\n",
      " 10  Area Global                480 non-null    object\n",
      " 11  Also known as              480 non-null    object\n",
      "dtypes: int64(5), object(7)\n",
      "memory usage: 45.1+ KB\n"
     ]
    }
   ],
   "source": [
    "data.info()"
   ]
  },
  {
   "cell_type": "code",
   "execution_count": 3,
   "metadata": {},
   "outputs": [
    {
     "data": {
      "text/html": [
       "<div>\n",
       "<style scoped>\n",
       "    .dataframe tbody tr th:only-of-type {\n",
       "        vertical-align: middle;\n",
       "    }\n",
       "\n",
       "    .dataframe tbody tr th {\n",
       "        vertical-align: top;\n",
       "    }\n",
       "\n",
       "    .dataframe thead th {\n",
       "        text-align: right;\n",
       "    }\n",
       "</style>\n",
       "<table border=\"1\" class=\"dataframe\">\n",
       "  <thead>\n",
       "    <tr style=\"text-align: right;\">\n",
       "      <th></th>\n",
       "      <th>Unnamed: 0</th>\n",
       "      <th>Vessels in Port</th>\n",
       "      <th>Departures(Last 24 Hours)</th>\n",
       "      <th>Arrivals(Last 24 Hours)</th>\n",
       "      <th>Expected Arrivals</th>\n",
       "    </tr>\n",
       "  </thead>\n",
       "  <tbody>\n",
       "    <tr>\n",
       "      <th>count</th>\n",
       "      <td>480.000000</td>\n",
       "      <td>480.000000</td>\n",
       "      <td>480.000000</td>\n",
       "      <td>480.000000</td>\n",
       "      <td>480.000000</td>\n",
       "    </tr>\n",
       "    <tr>\n",
       "      <th>mean</th>\n",
       "      <td>239.500000</td>\n",
       "      <td>153.312500</td>\n",
       "      <td>98.981250</td>\n",
       "      <td>108.662500</td>\n",
       "      <td>39.233333</td>\n",
       "    </tr>\n",
       "    <tr>\n",
       "      <th>std</th>\n",
       "      <td>138.708327</td>\n",
       "      <td>217.297037</td>\n",
       "      <td>170.504574</td>\n",
       "      <td>185.357564</td>\n",
       "      <td>82.385289</td>\n",
       "    </tr>\n",
       "    <tr>\n",
       "      <th>min</th>\n",
       "      <td>0.000000</td>\n",
       "      <td>51.000000</td>\n",
       "      <td>0.000000</td>\n",
       "      <td>1.000000</td>\n",
       "      <td>0.000000</td>\n",
       "    </tr>\n",
       "    <tr>\n",
       "      <th>25%</th>\n",
       "      <td>119.750000</td>\n",
       "      <td>63.000000</td>\n",
       "      <td>26.750000</td>\n",
       "      <td>30.000000</td>\n",
       "      <td>3.000000</td>\n",
       "    </tr>\n",
       "    <tr>\n",
       "      <th>50%</th>\n",
       "      <td>239.500000</td>\n",
       "      <td>86.000000</td>\n",
       "      <td>48.000000</td>\n",
       "      <td>56.000000</td>\n",
       "      <td>16.000000</td>\n",
       "    </tr>\n",
       "    <tr>\n",
       "      <th>75%</th>\n",
       "      <td>359.250000</td>\n",
       "      <td>144.000000</td>\n",
       "      <td>102.000000</td>\n",
       "      <td>106.250000</td>\n",
       "      <td>40.250000</td>\n",
       "    </tr>\n",
       "    <tr>\n",
       "      <th>max</th>\n",
       "      <td>479.000000</td>\n",
       "      <td>2420.000000</td>\n",
       "      <td>1682.000000</td>\n",
       "      <td>1748.000000</td>\n",
       "      <td>1205.000000</td>\n",
       "    </tr>\n",
       "  </tbody>\n",
       "</table>\n",
       "</div>"
      ],
      "text/plain": [
       "       Unnamed: 0  Vessels in Port  Departures(Last 24 Hours)  \\\n",
       "count  480.000000       480.000000                 480.000000   \n",
       "mean   239.500000       153.312500                  98.981250   \n",
       "std    138.708327       217.297037                 170.504574   \n",
       "min      0.000000        51.000000                   0.000000   \n",
       "25%    119.750000        63.000000                  26.750000   \n",
       "50%    239.500000        86.000000                  48.000000   \n",
       "75%    359.250000       144.000000                 102.000000   \n",
       "max    479.000000      2420.000000                1682.000000   \n",
       "\n",
       "       Arrivals(Last 24 Hours)  Expected Arrivals  \n",
       "count               480.000000         480.000000  \n",
       "mean                108.662500          39.233333  \n",
       "std                 185.357564          82.385289  \n",
       "min                   1.000000           0.000000  \n",
       "25%                  30.000000           3.000000  \n",
       "50%                  56.000000          16.000000  \n",
       "75%                 106.250000          40.250000  \n",
       "max                1748.000000        1205.000000  "
      ]
     },
     "execution_count": 3,
     "metadata": {},
     "output_type": "execute_result"
    }
   ],
   "source": [
    "data.describe()"
   ]
  },
  {
   "cell_type": "code",
   "execution_count": 4,
   "metadata": {},
   "outputs": [
    {
     "data": {
      "text/plain": [
       "((384, 1, 3), (96, 1, 3))"
      ]
     },
     "execution_count": 4,
     "metadata": {},
     "output_type": "execute_result"
    }
   ],
   "source": [
    "from sklearn.preprocessing import MinMaxScaler\n",
    "from sklearn.model_selection import train_test_split\n",
    "import numpy as np\n",
    "\n",
    "# Selecting relevant features for prediction\n",
    "features = data[['Vessels in Port', 'Departures(Last 24 Hours)', 'Arrivals(Last 24 Hours)']]\n",
    "target = data['Expected Arrivals']\n",
    "\n",
    "# Normalizing the features\n",
    "scaler = MinMaxScaler()\n",
    "features_normalized = scaler.fit_transform(features)\n",
    "\n",
    "# Splitting the dataset into training and testing sets\n",
    "X_train, X_test, y_train, y_test = train_test_split(features_normalized, target, test_size=0.2, random_state=42)\n",
    "\n",
    "# Reshaping input to be [samples, time steps, features] which is required for LSTM\n",
    "X_train = np.reshape(X_train, (X_train.shape[0], 1, X_train.shape[1]))\n",
    "X_test = np.reshape(X_test, (X_test.shape[0], 1, X_test.shape[1]))\n",
    "\n",
    "X_train.shape, X_test.shape"
   ]
  },
  {
   "cell_type": "code",
   "execution_count": 5,
   "metadata": {},
   "outputs": [
    {
     "name": "stdout",
     "output_type": "stream",
     "text": [
      "WARNING:tensorflow:From c:\\Users\\kimch\\AppData\\Local\\Programs\\Python\\Python311\\Lib\\site-packages\\keras\\src\\losses.py:2976: The name tf.losses.sparse_softmax_cross_entropy is deprecated. Please use tf.compat.v1.losses.sparse_softmax_cross_entropy instead.\n",
      "\n",
      "WARNING:tensorflow:From c:\\Users\\kimch\\AppData\\Local\\Programs\\Python\\Python311\\Lib\\site-packages\\keras\\src\\layers\\rnn\\lstm.py:148: The name tf.executing_eagerly_outside_functions is deprecated. Please use tf.compat.v1.executing_eagerly_outside_functions instead.\n",
      "\n",
      "WARNING:tensorflow:From c:\\Users\\kimch\\AppData\\Local\\Programs\\Python\\Python311\\Lib\\site-packages\\keras\\src\\optimizers\\__init__.py:309: The name tf.train.Optimizer is deprecated. Please use tf.compat.v1.train.Optimizer instead.\n",
      "\n"
     ]
    }
   ],
   "source": [
    "from tensorflow.keras.models import Sequential\n",
    "from tensorflow.keras.layers import LSTM, Dense\n",
    "from tensorflow.keras.callbacks import EarlyStopping\n",
    "\n",
    "# Defining the LSTM model\n",
    "model = Sequential([\n",
    "    LSTM(50, activation='relu', input_shape=(1, 3)),  # LSTM layer with 50 units\n",
    "    Dense(1)  # Output layer\n",
    "])\n",
    "model.compile(optimizer='adam', loss='mse', metrics=['mae'])  # Using Mean Squared Error and Mean Absolute Error\n",
    "\n",
    "# Early stopping to halt training when validation loss isn't decreasing\n",
    "early_stopping = EarlyStopping(monitor='val_loss', patience=10, restore_best_weights=True)\n",
    "\n"
   ]
  },
  {
   "cell_type": "code",
   "execution_count": 6,
   "metadata": {},
   "outputs": [
    {
     "name": "stdout",
     "output_type": "stream",
     "text": [
      "WARNING:tensorflow:From c:\\Users\\kimch\\AppData\\Local\\Programs\\Python\\Python311\\Lib\\site-packages\\keras\\src\\utils\\tf_utils.py:492: The name tf.ragged.RaggedTensorValue is deprecated. Please use tf.compat.v1.ragged.RaggedTensorValue instead.\n",
      "\n",
      "WARNING:tensorflow:From c:\\Users\\kimch\\AppData\\Local\\Programs\\Python\\Python311\\Lib\\site-packages\\keras\\src\\engine\\base_layer_utils.py:384: The name tf.executing_eagerly_outside_functions is deprecated. Please use tf.compat.v1.executing_eagerly_outside_functions instead.\n",
      "\n"
     ]
    }
   ],
   "source": [
    "# Training the model\n",
    "history = model.fit(\n",
    "    X_train, y_train,\n",
    "    epochs=100,\n",
    "    validation_split=0.2,\n",
    "    batch_size=32,\n",
    "    callbacks=[early_stopping],\n",
    "    verbose=0\n",
    ")"
   ]
  },
  {
   "cell_type": "code",
   "execution_count": 7,
   "metadata": {},
   "outputs": [
    {
     "name": "stdout",
     "output_type": "stream",
     "text": [
      "Test Loss: 7865.93603515625, Test MAE: 41.912784576416016\n"
     ]
    }
   ],
   "source": [
    "# Evaluating the model on the test set\n",
    "test_loss, test_mae = model.evaluate(X_test, y_test, verbose=0)\n",
    "\n",
    "print(f\"Test Loss: {test_loss}, Test MAE: {test_mae}\")"
   ]
  },
  {
   "cell_type": "code",
   "execution_count": 8,
   "metadata": {},
   "outputs": [
    {
     "data": {
      "image/png": "[encoded data removed]",
      "text/plain": [
       "<Figure size 1000x500 with 1 Axes>"
      ]
     },
     "metadata": {},
     "output_type": "display_data"
    },
    {
     "data": {
      "image/png": "[encoded data removed]",
      "text/plain": [
       "<Figure size 1000x500 with 1 Axes>"
      ]
     },
     "metadata": {},
     "output_type": "display_data"
    }
   ],
   "source": [
    "import matplotlib.pyplot as plt\n",
    "\n",
    "# Plotting training and validation loss\n",
    "plt.figure(figsize=(10, 5))\n",
    "plt.plot(history.history['loss'], label='Training Loss')\n",
    "plt.plot(history.history['val_loss'], label='Validation Loss')\n",
    "plt.title('Training and Validation Loss')\n",
    "plt.xlabel('Epochs')\n",
    "plt.ylabel('Loss')\n",
    "plt.legend()\n",
    "plt.show()\n",
    "\n",
    "# Plotting training and validation MAE\n",
    "plt.figure(figsize=(10, 5))\n",
    "plt.plot(history.history['mae'], label='Training MAE')\n",
    "plt.plot(history.history['val_mae'], label='Validation MAE')\n",
    "plt.title('Training and Validation MAE')\n",
    "plt.xlabel('Epochs')\n",
    "plt.ylabel('MAE')\n",
    "plt.legend()\n",
    "plt.show()"
   ]
  },
  {
   "cell_type": "code",
   "execution_count": 9,
   "metadata": {},
   "outputs": [
    {
     "name": "stderr",
     "output_type": "stream",
     "text": [
      "c:\\Users\\kimch\\AppData\\Local\\Programs\\Python\\Python311\\Lib\\site-packages\\keras\\src\\engine\\training.py:3103: UserWarning: You are saving your model as an HDF5 file via `model.save()`. This file format is considered legacy. We recommend using instead the native Keras format, e.g. `model.save('my_model.keras')`.\n",
      "  saving_api.save_model(\n"
     ]
    }
   ],
   "source": [
    "model.save('eta_prediction_model.h5')  # Saves the model"
   ]
  },
  {
   "cell_type": "code",
   "execution_count": 10,
   "metadata": {},
   "outputs": [],
   "source": [
    "from tensorflow.keras.models import load_model\n",
    "\n",
    "# Load the previously saved model\n",
    "model = load_model('eta_prediction_model.h5')"
   ]
  },
  {
   "cell_type": "code",
   "execution_count": 11,
   "metadata": {},
   "outputs": [
    {
     "name": "stderr",
     "output_type": "stream",
     "text": [
      "c:\\Users\\kimch\\AppData\\Local\\Programs\\Python\\Python311\\Lib\\site-packages\\sklearn\\base.py:493: UserWarning: X does not have valid feature names, but MinMaxScaler was fitted with feature names\n",
      "  warnings.warn(\n"
     ]
    }
   ],
   "source": [
    "from sklearn.preprocessing import MinMaxScaler\n",
    "import numpy as np\n",
    "\n",
    "# Example real-time data\n",
    "real_time_data = np.array([[2420, 1376, 1626]])  # Example: ['Vessels in Port', 'Departures(Last 24 Hours)', 'Arrivals(Last 24 Hours)']\n",
    "\n",
    "# Assuming scaler is loaded or initialized with the same parameters as during training\n",
    "real_time_data_normalized = scaler.transform(real_time_data)\n",
    "\n",
    "# Reshaping input to be [samples, time steps, features]\n",
    "real_time_data_reshaped = np.reshape(real_time_data_normalized, (1, 1, 3))"
   ]
  },
  {
   "cell_type": "code",
   "execution_count": 12,
   "metadata": {},
   "outputs": [
    {
     "name": "stdout",
     "output_type": "stream",
     "text": [
      "1/1 [==============================] - 0s 216ms/step\n",
      "Predicted ETA: 101.02566528320312\n"
     ]
    }
   ],
   "source": [
    "predicted_eta = model.predict(real_time_data_reshaped)\n",
    "print(f\"Predicted ETA: {predicted_eta[0][0]}\")"
   ]
  }
 ],
 "metadata": {
  "kernelspec": {
   "display_name": "Python 3",
   "language": "python",
   "name": "python3"
  },
  "language_info": {
   "codemirror_mode": {
    "name": "ipython",
    "version": 3
   },
   "file_extension": ".py",
   "mimetype": "text/x-python",
   "name": "python",
   "nbconvert_exporter": "python",
   "pygments_lexer": "ipython3",
   "version": "3.11.8"
  }
 },
 "nbformat": 4,
 "nbformat_minor": 2
}
